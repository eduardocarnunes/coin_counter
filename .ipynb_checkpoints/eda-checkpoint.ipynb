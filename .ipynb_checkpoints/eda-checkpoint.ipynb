{
 "cells": [
  {
   "cell_type": "markdown",
   "metadata": {},
   "source": [
    "## EDA (Exploratory Data Analysis) -  Coin Counter "
   ]
  },
  {
   "cell_type": "markdown",
   "metadata": {},
   "source": [
    "Import required libraries"
   ]
  },
  {
   "cell_type": "code",
   "execution_count": 1,
   "metadata": {},
   "outputs": [],
   "source": [
    "import cv2\n",
    "import matplotlib.pyplot as plt\n",
    "import matplotlib.image as mpimg\n",
    "import numpy as np"
   ]
  },
  {
   "cell_type": "code",
   "execution_count": 2,
   "metadata": {},
   "outputs": [],
   "source": [
    "%matplotlib inline"
   ]
  },
  {
   "cell_type": "markdown",
   "metadata": {},
   "source": [
    "# 1.0 Read images for analysis"
   ]
  },
  {
   "cell_type": "code",
   "execution_count": 3,
   "metadata": {},
   "outputs": [],
   "source": [
    "image_real = cv2.imread('real_original.jpg')\n",
    "image_dollar = cv2.imread('dolar_original.png')"
   ]
  },
  {
   "cell_type": "markdown",
   "metadata": {},
   "source": [
    "### Plot images"
   ]
  },
  {
   "cell_type": "code",
   "execution_count": 4,
   "metadata": {},
   "outputs": [],
   "source": [
    "cv2.imshow(\"Image Coins Real\", image_real)\n",
    "cv2.imshow(\"Image Coins Dollar\", image_dollar)\n",
    "cv2.waitKey(0)\n",
    "cv2.destroyAllWindows()"
   ]
  },
  {
   "cell_type": "markdown",
   "metadata": {},
   "source": [
    "# 2.0 Converting an image to gray scale"
   ]
  },
  {
   "cell_type": "code",
   "execution_count": 5,
   "metadata": {},
   "outputs": [],
   "source": [
    "image_real_gray = cv2.cvtColor(image_real, cv2.COLOR_BGR2GRAY) \n",
    "image_dollar_gray = cv2.cvtColor(image_dollar, cv2.COLOR_BGR2GRAY) "
   ]
  },
  {
   "cell_type": "markdown",
   "metadata": {},
   "source": [
    "### Plot Image Gray"
   ]
  },
  {
   "cell_type": "code",
   "execution_count": 6,
   "metadata": {},
   "outputs": [],
   "source": [
    "cv2.imshow(\"Image Gray Real\", image_real_gray)\n",
    "cv2.imshow(\"Image Gray Dollar\", image_dollar_gray)\n",
    "cv2.waitKey(0)\n",
    "cv2.destroyAllWindows()"
   ]
  },
  {
   "cell_type": "markdown",
   "metadata": {},
   "source": [
    "# 3.0 Blur image using GaussianBlur"
   ]
  },
  {
   "cell_type": "code",
   "execution_count": 17,
   "metadata": {},
   "outputs": [],
   "source": [
    "# define kernels\n",
    "kernel_tuple = [(3,3), (5,5), (7,7), (9,9), (11,11), (13,13), (15,15), (17,17)]"
   ]
  },
  {
   "cell_type": "code",
   "execution_count": 13,
   "metadata": {},
   "outputs": [],
   "source": [
    "# list images real with Gaussian Filter\n",
    "images_real_blur = []\n",
    "for kernel in kernel_tuple:\n",
    "    blurred = cv2.GaussianBlur(image_real_gray, kernel, 0)\n",
    "    images_real_blur.append(blurred)    "
   ]
  },
  {
   "cell_type": "code",
   "execution_count": 14,
   "metadata": {},
   "outputs": [],
   "source": [
    "# list images dollar with Gaussian Filter\n",
    "images_dollar_blur = []\n",
    "for kernel in kernel_tuple:\n",
    "    blurred = cv2.GaussianBlur(image_dollar_gray, kernel, 0)\n",
    "    images_dollar_blur.append(blurred)    "
   ]
  },
  {
   "cell_type": "markdown",
   "metadata": {},
   "source": [
    "### Plot images gray with GaussianBlur\n",
    "kernels: (3,3), (5,5), (7,7), (9,9), (11,11), (13,13), (15,15), (17,17)"
   ]
  },
  {
   "cell_type": "markdown",
   "metadata": {},
   "source": [
    "### Images Coin Real"
   ]
  },
  {
   "cell_type": "code",
   "execution_count": 10,
   "metadata": {},
   "outputs": [],
   "source": [
    "for i, kernel in enumerate(kernel_tuple, 0):\n",
    "    #print(i, kernel)\n",
    "    cv2.imshow(\"kernel: \" + str(kernel), images_real_blur[i])\n",
    "    cv2.waitKey(0)\n",
    "    cv2.destroyAllWindows()"
   ]
  },
  {
   "cell_type": "markdown",
   "metadata": {},
   "source": [
    "### Images Coin Dollar"
   ]
  },
  {
   "cell_type": "code",
   "execution_count": 15,
   "metadata": {},
   "outputs": [],
   "source": [
    "for i, kernel in enumerate(kernel_tuple, 0):\n",
    "    #print(i, kernel)\n",
    "    cv2.imshow(\"kernel: \" + str(kernel), images_dollar_blur[i])\n",
    "    cv2.waitKey(0)\n",
    "    cv2.destroyAllWindows()"
   ]
  },
  {
   "cell_type": "markdown",
   "metadata": {},
   "source": [
    "# 4.0 Detect circles with HoughCircles"
   ]
  },
  {
   "cell_type": "markdown",
   "metadata": {},
   "source": [
    "### Detect circles with image coins real and plot result"
   ]
  },
  {
   "cell_type": "code",
   "execution_count": 25,
   "metadata": {},
   "outputs": [
    {
     "name": "stdout",
     "output_type": "stream",
     "text": [
      "[RESULT]: Number of coins detect =5\n"
     ]
    }
   ],
   "source": [
    "# detect circles images real\n",
    "circles = cv2.HoughCircles(images_real_blur[-1], cv2.HOUGH_GRADIENT,1,\n",
    "                           images_real_blur[-1].shape[0]/8, param1=100,\n",
    "                           param2=50,minRadius=0,maxRadius=0) \n",
    "detected_circles = np.uint16(np.around(circles)) \n",
    "print('[RESULT]: Number of coins detect =' + str(len(detected_circles[0])))\n",
    "image_real_copy = image_real.copy()\n",
    "for pt in detected_circles[0, :]: \n",
    "    a, b, r = pt[0], pt[1], pt[2] \n",
    "    # Draw the circumference of the circle. \n",
    "    image_real_copy = cv2.circle(image_real_copy, (a, b), r, (0, 255, 0), 2) \n",
    "    # Draw a small circle (of radius 1) to show the center. \n",
    "    image_final = cv2.circle(image_real_copy, (a, b), 1, (0, 0, 255), 3) \n",
    "cv2.imshow(\"Detect circles Coin Real\", image_final)\n",
    "cv2.waitKey(0)\n",
    "cv2.destroyAllWindows()"
   ]
  },
  {
   "cell_type": "markdown",
   "metadata": {},
   "source": [
    "### Detect circles with image coins dollars and plot result"
   ]
  },
  {
   "cell_type": "code",
   "execution_count": 29,
   "metadata": {},
   "outputs": [
    {
     "name": "stdout",
     "output_type": "stream",
     "text": [
      "[RESULT]: Number of coins detect =6\n"
     ]
    }
   ],
   "source": [
    "# detect circles images dollar\n",
    "circles = cv2.HoughCircles(images_dollar_blur[-1], cv2.HOUGH_GRADIENT,1,\n",
    "                           images_dollar_blur[-1].shape[0]/8, param1=100,\n",
    "                           param2=50,minRadius=0,maxRadius=0) \n",
    "detected_circles = np.uint16(np.around(circles)) \n",
    "print('[RESULT]: Number of coins detect =' + str(len(detected_circles[0])))\n",
    "image_dollar_copy = image_dollar.copy()\n",
    "for pt in detected_circles[0, :]: \n",
    "    a, b, r = pt[0], pt[1], pt[2] \n",
    "    # Draw the circumference of the circle. \n",
    "    image_real_copy = cv2.circle(image_dollar_copy, (a, b), r, (0, 255, 0), 2) \n",
    "    # Draw a small circle (of radius 1) to show the center. \n",
    "    image_final = cv2.circle(image_real_copy, (a, b), 1, (0, 0, 255), 3) \n",
    "cv2.imshow(\"Detect circles Coin Real\", image_final)\n",
    "cv2.waitKey(0)\n",
    "cv2.destroyAllWindows()"
   ]
  },
  {
   "cell_type": "markdown",
   "metadata": {},
   "source": [
    "# 5.0 Image Segmentation"
   ]
  },
  {
   "cell_type": "markdown",
   "metadata": {},
   "source": [
    "# IN PROGRESS"
   ]
  },
  {
   "cell_type": "markdown",
   "metadata": {},
   "source": [
    "# 6.0 Image with morphological transformation"
   ]
  },
  {
   "cell_type": "code",
   "execution_count": 27,
   "metadata": {},
   "outputs": [],
   "source": [
    "# define kernels\n",
    "kernel_tuple = [(3,3), (5,5), (7,7), (9,9)]\n",
    "list_kernel = []\n",
    "list_images_morpho = []\n",
    "\n",
    "for kernel in kernel_tuple:\n",
    "    list_kernel.append(np.ones((5,5),np.uint8))\n",
    "    #closing : dilatation followed by Erosion\n",
    "    list_images_morpho.append(cv2.morphologyEx(image_real_gray, cv2.MORPH_CLOSE, kernel, iterations=3))"
   ]
  },
  {
   "cell_type": "code",
   "execution_count": 28,
   "metadata": {},
   "outputs": [],
   "source": [
    "for i, kernel in enumerate(kernel_tuple, 0):\n",
    "    #print(i, kernel)\n",
    "    cv2.imshow(\"kernel: \" + str(kernel), list_images_morpho[i])\n",
    "    cv2.waitKey(0)\n",
    "    cv2.destroyAllWindows()"
   ]
  },
  {
   "cell_type": "code",
   "execution_count": null,
   "metadata": {},
   "outputs": [],
   "source": []
  }
 ],
 "metadata": {
  "kernelspec": {
   "display_name": "Python 3",
   "language": "python",
   "name": "python3"
  },
  "language_info": {
   "codemirror_mode": {
    "name": "ipython",
    "version": 3
   },
   "file_extension": ".py",
   "mimetype": "text/x-python",
   "name": "python",
   "nbconvert_exporter": "python",
   "pygments_lexer": "ipython3",
   "version": "3.7.9"
  }
 },
 "nbformat": 4,
 "nbformat_minor": 4
}
